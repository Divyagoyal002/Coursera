{
 "cells": [
  {
   "cell_type": "markdown",
   "id": "d31f407e",
   "metadata": {},
   "source": [
    "# Data Science Tools and Ecosystem"
   ]
  },
  {
   "cell_type": "markdown",
   "id": "865f7c00",
   "metadata": {},
   "source": [
    "**In this notebook, Data Science Tools and Ecosystem are summarized.**\n"
   ]
  },
  {
   "cell_type": "markdown",
   "id": "addbe1ac",
   "metadata": {},
   "source": [
    "**Objectives-**\n",
    ">\n",
    "<ul>\n",
    "    <li>Popular Data Science languages</li>\n",
    "    <li>Data Science Libraries</li>\n",
    "    <li>Tools for Data Science </li>"
   ]
  },
  {
   "attachments": {},
   "cell_type": "markdown",
   "id": "62c300d8",
   "metadata": {},
   "source": [
    "**Some of the popular languages that Data Scientists use are:**\n",
    ">\n",
    "<ol>\n",
    "    <li>Python</li>\n",
    "    <li>SQL</li> \n",
    "    <li>JavaScript</li>\n",
    "    <li>Java</li>\n",
    "    <li>R</li>\n",
    "    <li>C/C++</li>\n",
    "    <li>MATLAB</li>\n",
    "    <li>Scala</li>\n",
    "    <li>Julia</li>\n",
    "    <li>SAS</li>\n",
    "</ol>\n"
   ]
  },
  {
   "cell_type": "markdown",
   "id": "9885bccf",
   "metadata": {},
   "source": [
    "**Some of the commonly used libraries used by Data Scientists include:**\n",
    ">\n",
    "<ol>\n",
    "    <li> Tensorflow</li>\n",
    "    <li> Pytorch</li>\n",
    "    <li> NumPy</li>\n",
    "    <li> SciPy</li>\n",
    "    <li> Scikit-Learn</li>\n",
    "    <li> Keras</li>\n",
    "    <li> Matplotlib</li>\n",
    "    <li> Seaborn</li>\n",
    "    <li> Plotly</li>\n",
    "    <li> GGplot</li>\n",
    "</ol>"
   ]
  },
  {
   "cell_type": "markdown",
   "id": "875484d9",
   "metadata": {},
   "source": [
    "|Data Science Tools|\n",
    "|------------------|\n",
    "|   Pandas|\n",
    "|ML Flow|\n",
    "|Scrapy|"
   ]
  },
  {
   "cell_type": "markdown",
   "id": "ef5cfdfd",
   "metadata": {},
   "source": [
    "### Below are a few examples of evaluating arithmetic expressions in Python."
   ]
  },
  {
   "cell_type": "code",
   "execution_count": 23,
   "id": "41305299",
   "metadata": {},
   "outputs": [
    {
     "data": {
      "text/plain": [
       "17"
      ]
     },
     "execution_count": 23,
     "metadata": {},
     "output_type": "execute_result"
    }
   ],
   "source": [
    "#The below arithmetic expression follows priority order , that is it first multiplies then ad the reult to th number \n",
    "#outside the bracket\n",
    "(3*4)+5"
   ]
  },
  {
   "cell_type": "code",
   "execution_count": 26,
   "id": "f1b3647c",
   "metadata": {},
   "outputs": [
    {
     "data": {
      "text/plain": [
       "3"
      ]
     },
     "execution_count": 26,
     "metadata": {},
     "output_type": "execute_result"
    }
   ],
   "source": [
    " #This will convert 200 minutes to hours by diving by 60\n",
    "(200//60) "
   ]
  },
  {
   "cell_type": "markdown",
   "id": "b9cbd804",
   "metadata": {},
   "source": [
    "## Author \n",
    "Divya Goyal"
   ]
  },
  {
   "cell_type": "code",
   "execution_count": null,
   "id": "4f8ddc47",
   "metadata": {},
   "outputs": [],
   "source": []
  }
 ],
 "metadata": {
  "kernelspec": {
   "display_name": "Python 3 (ipykernel)",
   "language": "python",
   "name": "python3"
  },
  "language_info": {
   "codemirror_mode": {
    "name": "ipython",
    "version": 3
   },
   "file_extension": ".py",
   "mimetype": "text/x-python",
   "name": "python",
   "nbconvert_exporter": "python",
   "pygments_lexer": "ipython3",
   "version": "3.9.7"
  }
 },
 "nbformat": 4,
 "nbformat_minor": 5
}
